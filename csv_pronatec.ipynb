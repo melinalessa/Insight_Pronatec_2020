{
 "cells": [
  {
   "cell_type": "code",
   "execution_count": 1,
   "id": "e0725679",
   "metadata": {},
   "outputs": [],
   "source": [
    "#importando bibliotecas\n",
    "\n",
    "import numpy as np\n",
    "import pandas as pd\n",
    "\n",
    "import matplotlib as mpl\n",
    "import matplotlib.pyplot as plt\n",
    "\n",
    "import seaborn as sns\n",
    "import seaborn.objects as so"
   ]
  },
  {
   "cell_type": "code",
   "execution_count": 7,
   "id": "d1675186",
   "metadata": {},
   "outputs": [
    {
     "data": {
      "text/html": [
       "<div>\n",
       "<style scoped>\n",
       "    .dataframe tbody tr th:only-of-type {\n",
       "        vertical-align: middle;\n",
       "    }\n",
       "\n",
       "    .dataframe tbody tr th {\n",
       "        vertical-align: top;\n",
       "    }\n",
       "\n",
       "    .dataframe thead th {\n",
       "        text-align: right;\n",
       "    }\n",
       "</style>\n",
       "<table border=\"1\" class=\"dataframe\">\n",
       "  <thead>\n",
       "    <tr style=\"text-align: right;\">\n",
       "      <th></th>\n",
       "      <th>SIGLA_INSTITUICAO</th>\n",
       "      <th>NOME_UNIDADE_ENSINO</th>\n",
       "      <th>ANO</th>\n",
       "      <th>SIGLA_UF_UNIDADE_ENSINO</th>\n",
       "      <th>NOME_MUNICIPIO_UNIDADE_ENSINO</th>\n",
       "    </tr>\n",
       "  </thead>\n",
       "  <tbody>\n",
       "    <tr>\n",
       "      <th>0</th>\n",
       "      <td>IFAC</td>\n",
       "      <td>Campus Cruzeiro do Sul</td>\n",
       "      <td>2011</td>\n",
       "      <td>AC</td>\n",
       "      <td>Cruzeiro do Sul</td>\n",
       "    </tr>\n",
       "    <tr>\n",
       "      <th>1</th>\n",
       "      <td>IFAC</td>\n",
       "      <td>Campus Rio Branco</td>\n",
       "      <td>2011</td>\n",
       "      <td>AC</td>\n",
       "      <td>Rio Branco</td>\n",
       "    </tr>\n",
       "    <tr>\n",
       "      <th>2</th>\n",
       "      <td>IFAC</td>\n",
       "      <td>Campus Avançado Rio Branco Baixada do Sol</td>\n",
       "      <td>2014</td>\n",
       "      <td>AC</td>\n",
       "      <td>Rio Branco</td>\n",
       "    </tr>\n",
       "    <tr>\n",
       "      <th>3</th>\n",
       "      <td>IFAC</td>\n",
       "      <td>Campus Sena Madureira</td>\n",
       "      <td>2011</td>\n",
       "      <td>AC</td>\n",
       "      <td>Sena Madureira</td>\n",
       "    </tr>\n",
       "    <tr>\n",
       "      <th>4</th>\n",
       "      <td>IFAC</td>\n",
       "      <td>Campus Tarauac</td>\n",
       "      <td>2013</td>\n",
       "      <td>AC</td>\n",
       "      <td>Tarauac</td>\n",
       "    </tr>\n",
       "  </tbody>\n",
       "</table>\n",
       "</div>"
      ],
      "text/plain": [
       "  SIGLA_INSTITUICAO                        NOME_UNIDADE_ENSINO   ANO  \\\n",
       "0              IFAC                     Campus Cruzeiro do Sul  2011   \n",
       "1              IFAC                          Campus Rio Branco  2011   \n",
       "2              IFAC  Campus Avançado Rio Branco Baixada do Sol  2014   \n",
       "3              IFAC                      Campus Sena Madureira  2011   \n",
       "4              IFAC                            Campus Tarauac   2013   \n",
       "\n",
       "  SIGLA_UF_UNIDADE_ENSINO NOME_MUNICIPIO_UNIDADE_ENSINO  \n",
       "0                      AC               Cruzeiro do Sul  \n",
       "1                      AC                    Rio Branco  \n",
       "2                      AC                    Rio Branco  \n",
       "3                      AC                Sena Madureira  \n",
       "4                      AC                      Tarauac   "
      ]
     },
     "execution_count": 7,
     "metadata": {},
     "output_type": "execute_result"
    }
   ],
   "source": [
    "#importando o banco de dados\n",
    "#add encoding padrao e informar o separador\n",
    "df = pd.read_csv('PDA_2020_Unidades_Rede_Federal_EPCT.csv', sep=';', encoding= 'cp1252')\n",
    "\n",
    "#mostrar as 5 primeiras linhas do DataFrame\n",
    "df.head()"
   ]
  },
  {
   "cell_type": "code",
   "execution_count": 15,
   "id": "36a00fb8",
   "metadata": {},
   "outputs": [
    {
     "name": "stdout",
     "output_type": "stream",
     "text": [
      "SIGLA_INSTITUICAO                object\n",
      "NOME_UNIDADE_ENSINO              object\n",
      "ANO                               int64\n",
      "SIGLA_UF_UNIDADE_ENSINO          object\n",
      "NOME_MUNICIPIO_UNIDADE_ENSINO    object\n",
      "dtype: object\n"
     ]
    }
   ],
   "source": [
    "#analisando as variáveis\n",
    "print (df.dtypes)"
   ]
  },
  {
   "cell_type": "code",
   "execution_count": 10,
   "id": "455eefdb",
   "metadata": {},
   "outputs": [
    {
     "data": {
      "text/plain": [
       "SIGLA_INSTITUICAO                665\n",
       "NOME_UNIDADE_ENSINO              665\n",
       "ANO                              665\n",
       "SIGLA_UF_UNIDADE_ENSINO          665\n",
       "NOME_MUNICIPIO_UNIDADE_ENSINO    665\n",
       "dtype: int64"
      ]
     },
     "execution_count": 10,
     "metadata": {},
     "output_type": "execute_result"
    }
   ],
   "source": [
    "#quantas escolas de ensino?\n",
    "df.count()"
   ]
  },
  {
   "cell_type": "code",
   "execution_count": 16,
   "id": "2ab3ca2a",
   "metadata": {},
   "outputs": [
    {
     "data": {
      "text/plain": [
       "MG    71\n",
       "RJ    50\n",
       "RS    44\n",
       "SC    38\n",
       "PR    37\n",
       "SP    37\n",
       "BA    37\n",
       "CE    34\n",
       "MA    30\n",
       "GO    27\n",
       "RN    25\n",
       "PB    25\n",
       "PE    24\n",
       "PI    23\n",
       "ES    22\n",
       "PA    20\n",
       "MT    19\n",
       "AL    17\n",
       "AM    17\n",
       "TO    11\n",
       "RO    10\n",
       "MS    10\n",
       "DF    10\n",
       "SE    10\n",
       "RR     6\n",
       "AC     6\n",
       "AP     5\n",
       "Name: SIGLA_UF_UNIDADE_ENSINO, dtype: int64"
      ]
     },
     "execution_count": 16,
     "metadata": {},
     "output_type": "execute_result"
    }
   ],
   "source": [
    "#quantas escolas por estado?\n",
    "df['SIGLA_UF_UNIDADE_ENSINO'].value_counts()"
   ]
  },
  {
   "cell_type": "code",
   "execution_count": 25,
   "id": "017e6354",
   "metadata": {},
   "outputs": [
    {
     "name": "stdout",
     "output_type": "stream",
     "text": [
      "\n"
     ]
    },
    {
     "data": {
      "image/png": "[encoded data removed]",
      "text/plain": [
       "<Figure size 640x480 with 1 Axes>"
      ]
     },
     "metadata": {},
     "output_type": "display_data"
    }
   ],
   "source": [
    "#aplicando visualização em gráfico barra\n",
    "df['SIGLA_UF_UNIDADE_ENSINO'].value_counts().plot.bar(color= \"green\")\n",
    "plt.title(\"Quantidade de escolas cadastradas por UF\")\n",
    "plt.ylabel(\"Quantidade\")\n",
    "plt.xlabel(\"Ano\")\n",
    "print()"
   ]
  },
  {
   "cell_type": "code",
   "execution_count": 17,
   "id": "b4d6caa2",
   "metadata": {},
   "outputs": [
    {
     "data": {
      "text/plain": [
       "2010    103\n",
       "2014     89\n",
       "2011     54\n",
       "2015     41\n",
       "2013     40\n",
       "       ... \n",
       "1969      1\n",
       "2000      1\n",
       "2004      1\n",
       "1911      1\n",
       "1998      1\n",
       "Name: ANO, Length: 62, dtype: int64"
      ]
     },
     "execution_count": 17,
     "metadata": {},
     "output_type": "execute_result"
    }
   ],
   "source": [
    "#quantas escolas cadastradas por ano?\n",
    "df['ANO'].value_counts()"
   ]
  }
 ],
 "metadata": {
  "kernelspec": {
   "display_name": "Python 3 (ipykernel)",
   "language": "python",
   "name": "python3"
  },
  "language_info": {
   "codemirror_mode": {
    "name": "ipython",
    "version": 3
   },
   "file_extension": ".py",
   "mimetype": "text/x-python",
   "name": "python",
   "nbconvert_exporter": "python",
   "pygments_lexer": "ipython3",
   "version": "3.10.9"
  }
 },
 "nbformat": 4,
 "nbformat_minor": 5
}
